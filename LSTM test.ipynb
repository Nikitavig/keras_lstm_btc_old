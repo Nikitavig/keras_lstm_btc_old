{
 "cells": [
  {
   "cell_type": "code",
   "execution_count": 1,
   "metadata": {},
   "outputs": [],
   "source": [
    "import numpy as np \n",
    "import pandas as pd \n",
    "from matplotlib import pyplot as plt\n",
    "from sklearn.preprocessing import MinMaxScaler"
   ]
  },
  {
   "cell_type": "code",
   "execution_count": 2,
   "metadata": {},
   "outputs": [],
   "source": [
    "# Длина блока\n",
    "n = 90\n",
    "# Длинна предсказания\n",
    "len_pred = 30"
   ]
  },
  {
   "cell_type": "code",
   "execution_count": 3,
   "metadata": {},
   "outputs": [
    {
     "name": "stdout",
     "output_type": "stream",
     "text": [
      "1353096\n"
     ]
    }
   ],
   "source": [
    "df = pd.read_csv('bit_mex_base_Timestamp1m.csv', sep=';')\n",
    "print(len(df))\n",
    "from_ = 8000\n",
    "df = df[-(from_ + 1440):-from_]\n",
    "# Дни\n",
    "# df['date'] = pd.to_datetime(df['timestamp'],unit='s').dt.date\n",
    "# Часы\n",
    "#df['date'] = pd.to_datetime(df['timestamp'],unit='s').dt.strftime('%H')\n",
    "# Минуты\n",
    "df['date'] = pd.to_datetime(df['timestamp'],unit='s')\n",
    "group = df.groupby('date')\n",
    "Real_Price = group['close'].mean()"
   ]
  },
  {
   "cell_type": "code",
   "execution_count": 4,
   "metadata": {},
   "outputs": [
    {
     "data": {
      "text/html": [
       "<div>\n",
       "<style scoped>\n",
       "    .dataframe tbody tr th:only-of-type {\n",
       "        vertical-align: middle;\n",
       "    }\n",
       "\n",
       "    .dataframe tbody tr th {\n",
       "        vertical-align: top;\n",
       "    }\n",
       "\n",
       "    .dataframe thead th {\n",
       "        text-align: right;\n",
       "    }\n",
       "</style>\n",
       "<table border=\"1\" class=\"dataframe\">\n",
       "  <thead>\n",
       "    <tr style=\"text-align: right;\">\n",
       "      <th></th>\n",
       "      <th>timestamp</th>\n",
       "      <th>open</th>\n",
       "      <th>high</th>\n",
       "      <th>low</th>\n",
       "      <th>close</th>\n",
       "      <th>trades</th>\n",
       "      <th>volume</th>\n",
       "      <th>vwap</th>\n",
       "      <th>lastSize</th>\n",
       "      <th>turnover</th>\n",
       "      <th>homeNotional</th>\n",
       "      <th>foreignNotional</th>\n",
       "      <th>date</th>\n",
       "    </tr>\n",
       "  </thead>\n",
       "  <tbody>\n",
       "    <tr>\n",
       "      <th>1343656</th>\n",
       "      <td>1.563837e+09</td>\n",
       "      <td>10220.5</td>\n",
       "      <td>10220.5</td>\n",
       "      <td>10212.5</td>\n",
       "      <td>10212.5</td>\n",
       "      <td>616</td>\n",
       "      <td>768234</td>\n",
       "      <td>10218.6797</td>\n",
       "      <td>6686.0</td>\n",
       "      <td>7518215262</td>\n",
       "      <td>75.182153</td>\n",
       "      <td>768234</td>\n",
       "      <td>2019-07-22 23:16:00</td>\n",
       "    </tr>\n",
       "    <tr>\n",
       "      <th>1343657</th>\n",
       "      <td>1.563837e+09</td>\n",
       "      <td>10212.5</td>\n",
       "      <td>10220.0</td>\n",
       "      <td>10205.0</td>\n",
       "      <td>10217.5</td>\n",
       "      <td>962</td>\n",
       "      <td>4751418</td>\n",
       "      <td>10209.2905</td>\n",
       "      <td>100.0</td>\n",
       "      <td>46540753967</td>\n",
       "      <td>465.407540</td>\n",
       "      <td>4751418</td>\n",
       "      <td>2019-07-22 23:17:00</td>\n",
       "    </tr>\n",
       "    <tr>\n",
       "      <th>1343658</th>\n",
       "      <td>1.563837e+09</td>\n",
       "      <td>10217.5</td>\n",
       "      <td>10219.5</td>\n",
       "      <td>10210.5</td>\n",
       "      <td>10211.0</td>\n",
       "      <td>311</td>\n",
       "      <td>559581</td>\n",
       "      <td>10217.6356</td>\n",
       "      <td>1.0</td>\n",
       "      <td>5476864452</td>\n",
       "      <td>54.768645</td>\n",
       "      <td>559581</td>\n",
       "      <td>2019-07-22 23:18:00</td>\n",
       "    </tr>\n",
       "    <tr>\n",
       "      <th>1343659</th>\n",
       "      <td>1.563838e+09</td>\n",
       "      <td>10211.0</td>\n",
       "      <td>10211.0</td>\n",
       "      <td>10210.5</td>\n",
       "      <td>10211.0</td>\n",
       "      <td>92</td>\n",
       "      <td>138621</td>\n",
       "      <td>10211.3755</td>\n",
       "      <td>46.0</td>\n",
       "      <td>1357535326</td>\n",
       "      <td>13.575353</td>\n",
       "      <td>138621</td>\n",
       "      <td>2019-07-22 23:19:00</td>\n",
       "    </tr>\n",
       "    <tr>\n",
       "      <th>1343660</th>\n",
       "      <td>1.563838e+09</td>\n",
       "      <td>10211.0</td>\n",
       "      <td>10230.5</td>\n",
       "      <td>10210.5</td>\n",
       "      <td>10230.5</td>\n",
       "      <td>712</td>\n",
       "      <td>1893210</td>\n",
       "      <td>10221.8133</td>\n",
       "      <td>1000.0</td>\n",
       "      <td>18521647012</td>\n",
       "      <td>185.216470</td>\n",
       "      <td>1893210</td>\n",
       "      <td>2019-07-22 23:20:00</td>\n",
       "    </tr>\n",
       "  </tbody>\n",
       "</table>\n",
       "</div>"
      ],
      "text/plain": [
       "            timestamp     open     high      low    close  trades   volume  \\\n",
       "1343656  1.563837e+09  10220.5  10220.5  10212.5  10212.5     616   768234   \n",
       "1343657  1.563837e+09  10212.5  10220.0  10205.0  10217.5     962  4751418   \n",
       "1343658  1.563837e+09  10217.5  10219.5  10210.5  10211.0     311   559581   \n",
       "1343659  1.563838e+09  10211.0  10211.0  10210.5  10211.0      92   138621   \n",
       "1343660  1.563838e+09  10211.0  10230.5  10210.5  10230.5     712  1893210   \n",
       "\n",
       "               vwap  lastSize     turnover  homeNotional  foreignNotional  \\\n",
       "1343656  10218.6797    6686.0   7518215262     75.182153           768234   \n",
       "1343657  10209.2905     100.0  46540753967    465.407540          4751418   \n",
       "1343658  10217.6356       1.0   5476864452     54.768645           559581   \n",
       "1343659  10211.3755      46.0   1357535326     13.575353           138621   \n",
       "1343660  10221.8133    1000.0  18521647012    185.216470          1893210   \n",
       "\n",
       "                       date  \n",
       "1343656 2019-07-22 23:16:00  \n",
       "1343657 2019-07-22 23:17:00  \n",
       "1343658 2019-07-22 23:18:00  \n",
       "1343659 2019-07-22 23:19:00  \n",
       "1343660 2019-07-22 23:20:00  "
      ]
     },
     "execution_count": 4,
     "metadata": {},
     "output_type": "execute_result"
    }
   ],
   "source": [
    "df.head()"
   ]
  },
  {
   "cell_type": "code",
   "execution_count": 5,
   "metadata": {},
   "outputs": [
    {
     "name": "stdout",
     "output_type": "stream",
     "text": [
      "1440\n"
     ]
    }
   ],
   "source": [
    "print (len(Real_Price))"
   ]
  },
  {
   "cell_type": "code",
   "execution_count": 6,
   "metadata": {},
   "outputs": [],
   "source": [
    "spliter = n + len_pred\n",
    "train_set = Real_Price[:-spliter].values\n",
    "test_set = Real_Price[-spliter:].values"
   ]
  },
  {
   "cell_type": "code",
   "execution_count": 7,
   "metadata": {},
   "outputs": [],
   "source": [
    "scaler = MinMaxScaler(feature_range = (0, 1))\n",
    "\n",
    "train_set_ = train_set.reshape(-1, 1)\n",
    "test_set_ = test_set.reshape(-1, 1)\n",
    "\n",
    "scaler = scaler.fit(train_set_)\n",
    "\n",
    "train_set_ = scaler.transform(train_set_)\n",
    "test_set_ = scaler.transform(test_set_)"
   ]
  },
  {
   "cell_type": "code",
   "execution_count": 8,
   "metadata": {},
   "outputs": [
    {
     "data": {
      "text/plain": [
       "1320"
      ]
     },
     "execution_count": 8,
     "metadata": {},
     "output_type": "execute_result"
    }
   ],
   "source": [
    "len(train_set_)"
   ]
  },
  {
   "cell_type": "code",
   "execution_count": 9,
   "metadata": {},
   "outputs": [],
   "source": [
    "features_set = []\n",
    "labels = []\n",
    "for i in range(n, len(train_set_)):\n",
    "    features_set.append(train_set_[i-n:i, 0])\n",
    "    labels.append(train_set_[i, 0])\n",
    "features_set, labels = np.array(features_set), np.array(labels)\n",
    "features_set = np.reshape(features_set, (features_set.shape[0], features_set.shape[1], 1))"
   ]
  },
  {
   "cell_type": "code",
   "execution_count": 10,
   "metadata": {
    "scrolled": true
   },
   "outputs": [
    {
     "name": "stderr",
     "output_type": "stream",
     "text": [
      "Using TensorFlow backend.\n"
     ]
    },
    {
     "name": "stdout",
     "output_type": "stream",
     "text": [
      "Epoch 1/100\n",
      "1230/1230 [==============================] - 5s 4ms/step - loss: 0.0393\n",
      "Epoch 2/100\n",
      "1230/1230 [==============================] - 4s 3ms/step - loss: 0.0087\n",
      "Epoch 3/100\n",
      "1230/1230 [==============================] - 3s 3ms/step - loss: 0.0076\n",
      "Epoch 4/100\n",
      "1230/1230 [==============================] - 4s 3ms/step - loss: 0.0070\n",
      "Epoch 5/100\n",
      "1230/1230 [==============================] - 4s 3ms/step - loss: 0.0066\n",
      "Epoch 6/100\n",
      "1230/1230 [==============================] - 4s 3ms/step - loss: 0.0066\n",
      "Epoch 7/100\n",
      "1230/1230 [==============================] - 4s 3ms/step - loss: 0.0066\n",
      "Epoch 8/100\n",
      "1230/1230 [==============================] - 4s 3ms/step - loss: 0.0061\n",
      "Epoch 9/100\n",
      "1230/1230 [==============================] - 4s 3ms/step - loss: 0.0059\n",
      "Epoch 10/100\n",
      "1230/1230 [==============================] - 4s 3ms/step - loss: 0.0063\n",
      "Epoch 11/100\n",
      "1230/1230 [==============================] - 4s 3ms/step - loss: 0.0057\n",
      "Epoch 12/100\n",
      "1230/1230 [==============================] - 4s 3ms/step - loss: 0.0055\n",
      "Epoch 13/100\n",
      "1230/1230 [==============================] - 4s 3ms/step - loss: 0.0049\n",
      "Epoch 14/100\n",
      "1230/1230 [==============================] - 4s 3ms/step - loss: 0.0051\n",
      "Epoch 15/100\n",
      "1230/1230 [==============================] - 4s 3ms/step - loss: 0.0048\n",
      "Epoch 16/100\n",
      "1230/1230 [==============================] - 4s 3ms/step - loss: 0.0051\n",
      "Epoch 17/100\n",
      "1230/1230 [==============================] - 4s 3ms/step - loss: 0.0039\n",
      "Epoch 18/100\n",
      "1230/1230 [==============================] - 4s 3ms/step - loss: 0.0041\n",
      "Epoch 19/100\n",
      "1230/1230 [==============================] - 4s 3ms/step - loss: 0.0044\n",
      "Epoch 20/100\n",
      "1230/1230 [==============================] - 4s 3ms/step - loss: 0.0040\n",
      "Epoch 21/100\n",
      "1230/1230 [==============================] - 4s 3ms/step - loss: 0.0044A: 0s - loss: 0.0\n",
      "Epoch 22/100\n",
      "1230/1230 [==============================] - 4s 3ms/step - loss: 0.0037\n",
      "Epoch 23/100\n",
      "1230/1230 [==============================] - 4s 3ms/step - loss: 0.0042\n",
      "Epoch 24/100\n",
      "1230/1230 [==============================] - 4s 3ms/step - loss: 0.0037\n",
      "Epoch 25/100\n",
      "1230/1230 [==============================] - 4s 3ms/step - loss: 0.0036A: 0s - loss\n",
      "Epoch 26/100\n",
      "1230/1230 [==============================] - 4s 3ms/step - loss: 0.0033\n",
      "Epoch 27/100\n",
      "1230/1230 [==============================] - 4s 3ms/step - loss: 0.0036\n",
      "Epoch 28/100\n",
      "1230/1230 [==============================] - 4s 3ms/step - loss: 0.0034\n",
      "Epoch 29/100\n",
      "1230/1230 [==============================] - 4s 3ms/step - loss: 0.0034\n",
      "Epoch 30/100\n",
      "1230/1230 [==============================] - 4s 3ms/step - loss: 0.0032\n",
      "Epoch 31/100\n",
      "1230/1230 [==============================] - 4s 3ms/step - loss: 0.0031\n",
      "Epoch 32/100\n",
      "1230/1230 [==============================] - 4s 3ms/step - loss: 0.0032\n",
      "Epoch 33/100\n",
      "1230/1230 [==============================] - 4s 3ms/step - loss: 0.0032\n",
      "Epoch 34/100\n",
      "1230/1230 [==============================] - 4s 3ms/step - loss: 0.0030\n",
      "Epoch 35/100\n",
      "1230/1230 [==============================] - 4s 3ms/step - loss: 0.0032\n",
      "Epoch 36/100\n",
      "1230/1230 [==============================] - 4s 3ms/step - loss: 0.0030\n",
      "Epoch 37/100\n",
      "1230/1230 [==============================] - 4s 3ms/step - loss: 0.0030A: 0s - loss: 0.0\n",
      "Epoch 38/100\n",
      "1230/1230 [==============================] - 4s 3ms/step - loss: 0.0030\n",
      "Epoch 39/100\n",
      "1230/1230 [==============================] - 4s 3ms/step - loss: 0.0029\n",
      "Epoch 40/100\n",
      "1230/1230 [==============================] - 4s 3ms/step - loss: 0.0026\n",
      "Epoch 41/100\n",
      "1230/1230 [==============================] - 4s 3ms/step - loss: 0.0029\n",
      "Epoch 42/100\n",
      "1230/1230 [==============================] - 4s 3ms/step - loss: 0.0030\n",
      "Epoch 43/100\n",
      "1230/1230 [==============================] - 4s 3ms/step - loss: 0.0031\n",
      "Epoch 44/100\n",
      "1230/1230 [==============================] - 4s 3ms/step - loss: 0.0027\n",
      "Epoch 45/100\n",
      "1230/1230 [==============================] - 4s 3ms/step - loss: 0.0027A: 0s - loss:\n",
      "Epoch 46/100\n",
      "1230/1230 [==============================] - 4s 3ms/step - loss: 0.0026A: 0s - loss: 0.00\n",
      "Epoch 47/100\n",
      "1230/1230 [==============================] - 4s 3ms/step - loss: 0.0025\n",
      "Epoch 48/100\n",
      "1230/1230 [==============================] - 4s 3ms/step - loss: 0.0024\n",
      "Epoch 49/100\n",
      "1230/1230 [==============================] - 4s 3ms/step - loss: 0.0023\n",
      "Epoch 50/100\n",
      "1230/1230 [==============================] - 4s 3ms/step - loss: 0.0024\n",
      "Epoch 51/100\n",
      "1230/1230 [==============================] - 4s 3ms/step - loss: 0.0025\n",
      "Epoch 52/100\n",
      "1230/1230 [==============================] - 4s 3ms/step - loss: 0.0024\n",
      "Epoch 53/100\n",
      "1230/1230 [==============================] - 4s 3ms/step - loss: 0.0022\n",
      "Epoch 54/100\n",
      "1230/1230 [==============================] - 4s 3ms/step - loss: 0.0028\n",
      "Epoch 55/100\n",
      "1230/1230 [==============================] - 4s 3ms/step - loss: 0.0025\n",
      "Epoch 56/100\n",
      "1230/1230 [==============================] - 4s 3ms/step - loss: 0.0023\n",
      "Epoch 57/100\n",
      "1230/1230 [==============================] - 4s 3ms/step - loss: 0.0020\n",
      "Epoch 58/100\n",
      "1230/1230 [==============================] - 4s 3ms/step - loss: 0.0020\n",
      "Epoch 59/100\n",
      "1230/1230 [==============================] - 4s 3ms/step - loss: 0.0022\n",
      "Epoch 60/100\n",
      "1230/1230 [==============================] - 4s 3ms/step - loss: 0.0022\n",
      "Epoch 61/100\n",
      "1230/1230 [==============================] - 4s 3ms/step - loss: 0.0020A: 1s - \n",
      "Epoch 62/100\n",
      "1230/1230 [==============================] - 4s 3ms/step - loss: 0.0021\n",
      "Epoch 63/100\n",
      "1230/1230 [==============================] - 4s 3ms/step - loss: 0.0019\n",
      "Epoch 64/100\n",
      "1230/1230 [==============================] - 4s 3ms/step - loss: 0.0019\n",
      "Epoch 65/100\n",
      "1230/1230 [==============================] - 4s 3ms/step - loss: 0.0019\n",
      "Epoch 66/100\n",
      "1230/1230 [==============================] - 4s 3ms/step - loss: 0.0020\n",
      "Epoch 67/100\n",
      "1230/1230 [==============================] - 4s 3ms/step - loss: 0.0017\n",
      "Epoch 68/100\n",
      "1230/1230 [==============================] - 4s 3ms/step - loss: 0.0017\n",
      "Epoch 69/100\n",
      "1230/1230 [==============================] - 4s 3ms/step - loss: 0.0017\n",
      "Epoch 70/100\n",
      "1230/1230 [==============================] - 4s 3ms/step - loss: 0.0017\n",
      "Epoch 71/100\n",
      "1230/1230 [==============================] - 4s 3ms/step - loss: 0.0018\n",
      "Epoch 72/100\n",
      "1230/1230 [==============================] - 4s 3ms/step - loss: 0.0016\n",
      "Epoch 73/100\n",
      "1230/1230 [==============================] - 4s 3ms/step - loss: 0.0018\n",
      "Epoch 74/100\n",
      "1230/1230 [==============================] - 4s 3ms/step - loss: 0.0016\n",
      "Epoch 75/100\n",
      "1230/1230 [==============================] - 4s 3ms/step - loss: 0.0016\n",
      "Epoch 76/100\n",
      "1230/1230 [==============================] - 4s 3ms/step - loss: 0.0017\n",
      "Epoch 77/100\n",
      "1230/1230 [==============================] - 4s 3ms/step - loss: 0.0015\n",
      "Epoch 78/100\n",
      "1230/1230 [==============================] - 4s 3ms/step - loss: 0.0016\n",
      "Epoch 79/100\n",
      "1230/1230 [==============================] - 4s 3ms/step - loss: 0.0015\n",
      "Epoch 80/100\n",
      "1230/1230 [==============================] - 4s 3ms/step - loss: 0.0016\n",
      "Epoch 81/100\n",
      "1230/1230 [==============================] - 4s 3ms/step - loss: 0.0015\n",
      "Epoch 82/100\n",
      "1230/1230 [==============================] - 4s 3ms/step - loss: 0.0014\n",
      "Epoch 83/100\n",
      "1230/1230 [==============================] - 4s 3ms/step - loss: 0.0014\n",
      "Epoch 84/100\n",
      "1230/1230 [==============================] - 4s 3ms/step - loss: 0.0014\n",
      "Epoch 85/100\n",
      "1230/1230 [==============================] - 4s 3ms/step - loss: 0.0014\n",
      "Epoch 86/100\n",
      "1230/1230 [==============================] - 4s 3ms/step - loss: 0.0013\n",
      "Epoch 87/100\n",
      "1230/1230 [==============================] - 4s 3ms/step - loss: 0.0014\n",
      "Epoch 88/100\n",
      "1230/1230 [==============================] - 4s 3ms/step - loss: 0.0013\n",
      "Epoch 89/100\n",
      "1230/1230 [==============================] - 4s 3ms/step - loss: 0.0013A: 1s -\n",
      "Epoch 90/100\n",
      "1230/1230 [==============================] - 4s 3ms/step - loss: 0.0013\n",
      "Epoch 91/100\n",
      "1230/1230 [==============================] - 4s 3ms/step - loss: 0.0013\n",
      "Epoch 92/100\n",
      "1230/1230 [==============================] - 4s 3ms/step - loss: 0.0013\n",
      "Epoch 93/100\n",
      "1230/1230 [==============================] - 4s 3ms/step - loss: 0.0012\n",
      "Epoch 94/100\n",
      "1230/1230 [==============================] - 4s 3ms/step - loss: 0.0011\n",
      "Epoch 95/100\n",
      "1230/1230 [==============================] - 4s 3ms/step - loss: 0.0012\n",
      "Epoch 96/100\n"
     ]
    },
    {
     "name": "stdout",
     "output_type": "stream",
     "text": [
      "1230/1230 [==============================] - 4s 3ms/step - loss: 0.0012\n",
      "Epoch 97/100\n",
      "1230/1230 [==============================] - 4s 3ms/step - loss: 0.0010\n",
      "Epoch 98/100\n",
      "1230/1230 [==============================] - 4s 3ms/step - loss: 0.0011\n",
      "Epoch 99/100\n",
      "1230/1230 [==============================] - 4s 3ms/step - loss: 0.0012\n",
      "Epoch 100/100\n",
      "1230/1230 [==============================] - 4s 3ms/step - loss: 0.0012\n"
     ]
    },
    {
     "data": {
      "text/plain": [
       "<keras.callbacks.callbacks.History at 0x225faf21c48>"
      ]
     },
     "execution_count": 10,
     "metadata": {},
     "output_type": "execute_result"
    }
   ],
   "source": [
    "# MMODEL\n",
    "from keras.models import Sequential\n",
    "from keras.layers import Dense\n",
    "from keras.layers import LSTM\n",
    "from keras.layers import Dropout\n",
    "\n",
    "\n",
    "model = Sequential()\n",
    "model.add(LSTM(units=50, return_sequences=True, input_shape=(features_set.shape[1], 1)))\n",
    "model.add(Dropout(0.2))\n",
    "\n",
    "model.add(LSTM(units=50, return_sequences=True))\n",
    "model.add(Dropout(0.2))\n",
    "\n",
    "model.add(LSTM(units=50, return_sequences=True))\n",
    "model.add(Dropout(0.2))\n",
    "\n",
    "model.add(LSTM(units=50))\n",
    "model.add(Dropout(0.2))\n",
    "\n",
    "model.add(Dense(units = 1))\n",
    "\n",
    "model.compile(optimizer = 'adam', loss = 'mean_squared_error')\n",
    "\n",
    "model.fit(features_set, labels, epochs = 100, batch_size = None)"
   ]
  },
  {
   "cell_type": "code",
   "execution_count": 11,
   "metadata": {},
   "outputs": [],
   "source": [
    "test_features = []\n",
    "for i in range(n, len(test_set_)):\n",
    "    test_features.append(test_set_[i-n:i, 0])"
   ]
  },
  {
   "cell_type": "code",
   "execution_count": 12,
   "metadata": {},
   "outputs": [],
   "source": [
    "test_features = np.array(test_features)\n",
    "test_features = np.reshape(test_features, (test_features.shape[0], test_features.shape[1], 1))"
   ]
  },
  {
   "cell_type": "code",
   "execution_count": 13,
   "metadata": {},
   "outputs": [],
   "source": [
    "predictions = model.predict(test_features)\n",
    "predictions = scaler.inverse_transform(predictions)"
   ]
  },
  {
   "cell_type": "code",
   "execution_count": 14,
   "metadata": {},
   "outputs": [],
   "source": [
    "# print (predictions)"
   ]
  },
  {
   "cell_type": "code",
   "execution_count": 15,
   "metadata": {},
   "outputs": [],
   "source": [
    "testion_ = np.array(test_set_[n:])\n",
    "testion_ = scaler.inverse_transform(testion_)\n",
    "# print(testion_)"
   ]
  },
  {
   "cell_type": "code",
   "execution_count": 16,
   "metadata": {
    "scrolled": false
   },
   "outputs": [
    {
     "name": "stdout",
     "output_type": "stream",
     "text": [
      "9690.0 <-> 9690.6 | 0.01 %\n",
      "9686.0 <-> 9696.5 | 0.11 %\n",
      "9690.5 <-> 9700.2 | 0.1 %\n",
      "9682.0 <-> 9701.9 | 0.21 %\n",
      "9680.0 <-> 9700.4 | 0.21 %\n",
      "9680.5 <-> 9696.7 | 0.17 %\n",
      "9681.0 <-> 9693.1 | 0.12 %\n",
      "9681.5 <-> 9691.3 | 0.1 %\n",
      "9682.0 <-> 9691.4 | 0.1 %\n",
      "9682.0 <-> 9692.6 | 0.11 %\n",
      "9682.0 <-> 9693.9 | 0.12 %\n",
      "9671.0 <-> 9694.7 | 0.24 %\n",
      "9689.5 <-> 9692.2 | 0.03 %\n",
      "9680.0 <-> 9692.3 | 0.13 %\n",
      "9675.5 <-> 9693.3 | 0.18 %\n",
      "9661.0 <-> 9692.5 | 0.32 %\n",
      "9663.5 <-> 9687.0 | 0.24 %\n",
      "9664.0 <-> 9680.1 | 0.17 %\n",
      "9658.0 <-> 9675.5 | 0.18 %\n",
      "9633.0 <-> 9672.5 | 0.41 %\n",
      "9647.5 <-> 9665.2 | 0.18 %\n",
      "9650.0 <-> 9658.7 | 0.09 %\n",
      "9653.0 <-> 9656.8 | 0.04 %\n",
      "9652.5 <-> 9659.2 | 0.07 %\n",
      "9648.5 <-> 9663.1 | 0.15 %\n",
      "9636.0 <-> 9665.1 | 0.3 %\n",
      "9636.0 <-> 9661.9 | 0.27 %\n",
      "9622.0 <-> 9655.8 | 0.35 %\n",
      "9610.5 <-> 9647.2 | 0.38 %\n",
      "9632.0 <-> 9636.6 | 0.05 %\n",
      "Среднее отклонение 0.18 %\n"
     ]
    }
   ],
   "source": [
    "average = 0\n",
    "for index, i in enumerate(range(len(testion_))):\n",
    "    real = round(testion_[i][0], 1)\n",
    "    predict_ = round(predictions[i][0], 1)\n",
    "    print (f\"{real} <-> {round(float(predict_), 1)} | {round((predict_ - real) / predict_ * 100, 2)} %\")\n",
    "    average += abs(predict_ - real) / predict_ * 100\n",
    "average /= index\n",
    "print(f\"Среднее отклонение {round(average, 2)} %\")\n"
   ]
  },
  {
   "cell_type": "code",
   "execution_count": 17,
   "metadata": {},
   "outputs": [
    {
     "data": {
      "image/png": "[encoded data removed]",
      "text/plain": [
       "<Figure size 1152x432 with 1 Axes>"
      ]
     },
     "metadata": {
      "needs_background": "light"
     },
     "output_type": "display_data"
    }
   ],
   "source": [
    "plt.figure(figsize=(16,6))\n",
    "plt.plot(testion_, color='blue', label='Real')\n",
    "plt.plot(predictions , color='red', label='pred')\n",
    "plt.title('Apple Stock Price Prediction')\n",
    "plt.xlabel('Date')\n",
    "plt.ylabel('Price')\n",
    "plt.legend()\n",
    "plt.show()"
   ]
  },
  {
   "cell_type": "code",
   "execution_count": null,
   "metadata": {},
   "outputs": [],
   "source": []
  },
  {
   "cell_type": "code",
   "execution_count": null,
   "metadata": {},
   "outputs": [],
   "source": []
  }
 ],
 "metadata": {
  "kernelspec": {
   "display_name": "Python 3",
   "language": "python",
   "name": "python3"
  },
  "language_info": {
   "codemirror_mode": {
    "name": "ipython",
    "version": 3
   },
   "file_extension": ".py",
   "mimetype": "text/x-python",
   "name": "python",
   "nbconvert_exporter": "python",
   "pygments_lexer": "ipython3",
   "version": "3.7.6"
  }
 },
 "nbformat": 4,
 "nbformat_minor": 2
}
